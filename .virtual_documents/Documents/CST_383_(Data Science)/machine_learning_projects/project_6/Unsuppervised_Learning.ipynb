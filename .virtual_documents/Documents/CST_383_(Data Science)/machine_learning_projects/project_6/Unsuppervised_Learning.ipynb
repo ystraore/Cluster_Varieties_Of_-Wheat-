


import numpy as np
import pandas as pd
import matplotlib.pyplot as plt
import seaborn as sns


# df = pd.read_csv('new_seeds_dataset.csv')





# let's difine the columns (Method 1)

# col_names = ['area', 'perimeter', 'compactness', 'length', 'width', 'asymmetry', 'groove', 'class']
# df.columns = col_names


# let's difine the columns (Method 2)
col_names = ['area', 'perimeter', 'compactness', 'length', 'width', 'asymmetry', 'groove', 'class']

df = pd.read_csv('seeds_dataset.txt', names=col_names, sep="\s+")
df.head()


# this explore the dataset
df.info


# this return the number of rows and columns.
df.shape


# return a statistic description on the dataset
df.describe()


# returns 1 if it is a series and 2 if it a dataframe. 
df.ndim


for i in range(len(col_names) -1):
    for j in range(i+1, len(col_names) -1):
        x_label = col_names[i]
        y_label = col_names[j]
        sns.scatterplot(x=x_label, y = y_label, data = df, hue= 'class')
        plt.show()








from sklearn.cluster import KMeans


x = 'perimeter'
y = 'asymmetry'

x2 = 'perimeter'
x = df[[x, y]].values





# this define the KMeans algorythm
kmeans = KMeans(n_clusters = 3, n_init=10).fit(x)   # n_init is the # of time KMeans will run


clusters = kmeans.labels_


# this is the predicted clusters
clusters


# this is the actual claster values
df['class'].values


# Let visualize that
cluster_df = pd.DataFrame(np.hstack((x, clusters.reshape(-1, 1))), columns = [x2, y, 'class'])


# this is the kmeans classes.
sns.scatterplot(x=x2, y=y, hue='class', data=cluster_df)
plt.show()


# this is the original data ploting
sns.scatterplot(x=x2, y=y, hue='class', data=df)
plt.show()





# this select all the columns's name in the dataset except the last column
X = df[col_names[:-1]].values


cluster_df = pd.DataFrame(np.hstack((X, clusters.reshape(-1, 1))), columns = df.columns)


# this is the original data ploting
sns.scatterplot(x=x2, y=y, hue='class', data=cluster_df)
plt.show()


# this is the original data ploting
sns.scatterplot(x=x2, y=y, hue='class', data=df)
plt.show()





from sklearn.decomposition import PCA


# this initialize the PCA
pca = PCA(n_components = 2)
transformed_x = pca.fit_transform(X)


X.shape


# this is the transformed x
transformed_x.shape


transformed_x[:5]


# this take the 7 deimensional to make it to 2 dimensional representation
plt.scatter(transformed_x[:, 0], transformed_x[:, 1])
plt.show()





# this is a dataframe with kmeans with PCA
kmeans_pca_df = pd.DataFrame(np.hstack((transformed_x, kmeans.labels_.reshape(-1, 1))), columns = ['pca1', 'pca2', 'class']) 


# this is a dataframe with the truth without the PCA.
truth_pca_df = pd.DataFrame(np.hstack((transformed_x, df['class'].values.reshape(-1, 1))), columns = ['pca1', 'pca2', 'class']) 


# Let's plot the Truth classes
sns.scatterplot(x = 'pca1', y = 'pca2', hue = 'class', data = kmeans_pca_df)
plt.show()



